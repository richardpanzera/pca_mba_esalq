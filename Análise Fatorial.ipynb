{
 "cells": [
  {
   "cell_type": "code",
   "execution_count": 1,
   "id": "5d7cbea9",
   "metadata": {},
   "outputs": [],
   "source": [
    "import pandas as pd\n",
    "import warnings\n",
    "import numpy as np\n",
    "import scipy.stats as s\n",
    "from scipy.stats import chisquare\n",
    "from sklearn.decomposition import PCA\n",
    "import matplotlib.pyplot as plt\n",
    "import seaborn as sns\n",
    "warnings.simplefilter('ignore')"
   ]
  },
  {
   "cell_type": "markdown",
   "id": "27649c35",
   "metadata": {},
   "source": [
    "## Base de Dados"
   ]
  },
  {
   "cell_type": "code",
   "execution_count": 9,
   "id": "d23ac2d0",
   "metadata": {},
   "outputs": [],
   "source": [
    "nota = pd.read_excel(r\"Data/notas_fatorial.xlsx\", index_col='estudante')"
   ]
  },
  {
   "cell_type": "code",
   "execution_count": 10,
   "id": "3412bd11",
   "metadata": {},
   "outputs": [
    {
     "data": {
      "text/html": [
       "<div>\n",
       "<style scoped>\n",
       "    .dataframe tbody tr th:only-of-type {\n",
       "        vertical-align: middle;\n",
       "    }\n",
       "\n",
       "    .dataframe tbody tr th {\n",
       "        vertical-align: top;\n",
       "    }\n",
       "\n",
       "    .dataframe thead th {\n",
       "        text-align: right;\n",
       "    }\n",
       "</style>\n",
       "<table border=\"1\" class=\"dataframe\">\n",
       "  <thead>\n",
       "    <tr style=\"text-align: right;\">\n",
       "      <th></th>\n",
       "      <th>finanças</th>\n",
       "      <th>custos</th>\n",
       "      <th>marketing</th>\n",
       "      <th>atuária</th>\n",
       "    </tr>\n",
       "    <tr>\n",
       "      <th>estudante</th>\n",
       "      <th></th>\n",
       "      <th></th>\n",
       "      <th></th>\n",
       "      <th></th>\n",
       "    </tr>\n",
       "  </thead>\n",
       "  <tbody>\n",
       "    <tr>\n",
       "      <th>Gabriela</th>\n",
       "      <td>5.8</td>\n",
       "      <td>4.0</td>\n",
       "      <td>1.0</td>\n",
       "      <td>6.0</td>\n",
       "    </tr>\n",
       "    <tr>\n",
       "      <th>Luiz Felipe</th>\n",
       "      <td>3.1</td>\n",
       "      <td>3.0</td>\n",
       "      <td>10.0</td>\n",
       "      <td>2.0</td>\n",
       "    </tr>\n",
       "    <tr>\n",
       "      <th>Patrícia</th>\n",
       "      <td>3.1</td>\n",
       "      <td>4.0</td>\n",
       "      <td>4.0</td>\n",
       "      <td>4.0</td>\n",
       "    </tr>\n",
       "    <tr>\n",
       "      <th>Gustavo</th>\n",
       "      <td>10.0</td>\n",
       "      <td>8.0</td>\n",
       "      <td>8.0</td>\n",
       "      <td>8.0</td>\n",
       "    </tr>\n",
       "    <tr>\n",
       "      <th>Letícia</th>\n",
       "      <td>3.4</td>\n",
       "      <td>2.0</td>\n",
       "      <td>3.2</td>\n",
       "      <td>3.2</td>\n",
       "    </tr>\n",
       "    <tr>\n",
       "      <th>Ovídio</th>\n",
       "      <td>10.0</td>\n",
       "      <td>10.0</td>\n",
       "      <td>1.0</td>\n",
       "      <td>10.0</td>\n",
       "    </tr>\n",
       "    <tr>\n",
       "      <th>Leonor</th>\n",
       "      <td>5.0</td>\n",
       "      <td>5.0</td>\n",
       "      <td>8.0</td>\n",
       "      <td>5.0</td>\n",
       "    </tr>\n",
       "    <tr>\n",
       "      <th>Dalila</th>\n",
       "      <td>5.4</td>\n",
       "      <td>6.0</td>\n",
       "      <td>6.0</td>\n",
       "      <td>6.0</td>\n",
       "    </tr>\n",
       "    <tr>\n",
       "      <th>Antônio</th>\n",
       "      <td>5.9</td>\n",
       "      <td>4.0</td>\n",
       "      <td>4.0</td>\n",
       "      <td>4.0</td>\n",
       "    </tr>\n",
       "    <tr>\n",
       "      <th>Júlia</th>\n",
       "      <td>6.1</td>\n",
       "      <td>4.0</td>\n",
       "      <td>4.0</td>\n",
       "      <td>4.0</td>\n",
       "    </tr>\n",
       "  </tbody>\n",
       "</table>\n",
       "</div>"
      ],
      "text/plain": [
       "             finanças  custos  marketing  atuária\n",
       "estudante                                        \n",
       "Gabriela          5.8     4.0        1.0      6.0\n",
       "Luiz Felipe       3.1     3.0       10.0      2.0\n",
       "Patrícia          3.1     4.0        4.0      4.0\n",
       "Gustavo          10.0     8.0        8.0      8.0\n",
       "Letícia           3.4     2.0        3.2      3.2\n",
       "Ovídio           10.0    10.0        1.0     10.0\n",
       "Leonor            5.0     5.0        8.0      5.0\n",
       "Dalila            5.4     6.0        6.0      6.0\n",
       "Antônio           5.9     4.0        4.0      4.0\n",
       "Júlia             6.1     4.0        4.0      4.0"
      ]
     },
     "execution_count": 10,
     "metadata": {},
     "output_type": "execute_result"
    }
   ],
   "source": [
    "nota.head(10)"
   ]
  },
  {
   "cell_type": "markdown",
   "id": "598732bd",
   "metadata": {},
   "source": [
    "## Estatísticas Descritivas"
   ]
  },
  {
   "cell_type": "code",
   "execution_count": 11,
   "id": "892fe1e9",
   "metadata": {},
   "outputs": [
    {
     "data": {
      "text/html": [
       "<div>\n",
       "<style scoped>\n",
       "    .dataframe tbody tr th:only-of-type {\n",
       "        vertical-align: middle;\n",
       "    }\n",
       "\n",
       "    .dataframe tbody tr th {\n",
       "        vertical-align: top;\n",
       "    }\n",
       "\n",
       "    .dataframe thead th {\n",
       "        text-align: right;\n",
       "    }\n",
       "</style>\n",
       "<table border=\"1\" class=\"dataframe\">\n",
       "  <thead>\n",
       "    <tr style=\"text-align: right;\">\n",
       "      <th></th>\n",
       "      <th>finanças</th>\n",
       "      <th>custos</th>\n",
       "      <th>marketing</th>\n",
       "      <th>atuária</th>\n",
       "    </tr>\n",
       "  </thead>\n",
       "  <tbody>\n",
       "    <tr>\n",
       "      <th>count</th>\n",
       "      <td>100.000000</td>\n",
       "      <td>100.000000</td>\n",
       "      <td>100.000000</td>\n",
       "      <td>100.000000</td>\n",
       "    </tr>\n",
       "    <tr>\n",
       "      <th>mean</th>\n",
       "      <td>5.834000</td>\n",
       "      <td>4.717000</td>\n",
       "      <td>5.668000</td>\n",
       "      <td>5.314000</td>\n",
       "    </tr>\n",
       "    <tr>\n",
       "      <th>std</th>\n",
       "      <td>3.122749</td>\n",
       "      <td>2.455999</td>\n",
       "      <td>2.828351</td>\n",
       "      <td>2.513078</td>\n",
       "    </tr>\n",
       "    <tr>\n",
       "      <th>min</th>\n",
       "      <td>0.600000</td>\n",
       "      <td>1.900000</td>\n",
       "      <td>1.000000</td>\n",
       "      <td>1.700000</td>\n",
       "    </tr>\n",
       "    <tr>\n",
       "      <th>25%</th>\n",
       "      <td>3.100000</td>\n",
       "      <td>2.900000</td>\n",
       "      <td>3.000000</td>\n",
       "      <td>3.200000</td>\n",
       "    </tr>\n",
       "    <tr>\n",
       "      <th>50%</th>\n",
       "      <td>5.800000</td>\n",
       "      <td>4.000000</td>\n",
       "      <td>6.000000</td>\n",
       "      <td>5.000000</td>\n",
       "    </tr>\n",
       "    <tr>\n",
       "      <th>75%</th>\n",
       "      <td>9.000000</td>\n",
       "      <td>6.000000</td>\n",
       "      <td>8.000000</td>\n",
       "      <td>7.025000</td>\n",
       "    </tr>\n",
       "    <tr>\n",
       "      <th>max</th>\n",
       "      <td>10.000000</td>\n",
       "      <td>10.000000</td>\n",
       "      <td>10.000000</td>\n",
       "      <td>10.000000</td>\n",
       "    </tr>\n",
       "  </tbody>\n",
       "</table>\n",
       "</div>"
      ],
      "text/plain": [
       "         finanças      custos   marketing     atuária\n",
       "count  100.000000  100.000000  100.000000  100.000000\n",
       "mean     5.834000    4.717000    5.668000    5.314000\n",
       "std      3.122749    2.455999    2.828351    2.513078\n",
       "min      0.600000    1.900000    1.000000    1.700000\n",
       "25%      3.100000    2.900000    3.000000    3.200000\n",
       "50%      5.800000    4.000000    6.000000    5.000000\n",
       "75%      9.000000    6.000000    8.000000    7.025000\n",
       "max     10.000000   10.000000   10.000000   10.000000"
      ]
     },
     "execution_count": 11,
     "metadata": {},
     "output_type": "execute_result"
    }
   ],
   "source": [
    "nota.describe()"
   ]
  },
  {
   "cell_type": "code",
   "execution_count": 12,
   "id": "0cc96633",
   "metadata": {},
   "outputs": [
    {
     "data": {
      "image/png": "[encoded data removed]",
      "text/plain": [
       "<Figure size 720x720 with 14 Axes>"
      ]
     },
     "metadata": {
      "needs_background": "light"
     },
     "output_type": "display_data"
    }
   ],
   "source": [
    "## Correlação entre variáveis\n",
    "ax = sns.pairplot(nota, kind='reg', corner = True)\n",
    "ax = ax"
   ]
  },
  {
   "cell_type": "markdown",
   "id": "d9c5cd45",
   "metadata": {},
   "source": [
    "## Correlação"
   ]
  },
  {
   "cell_type": "code",
   "execution_count": 13,
   "id": "9e54f752",
   "metadata": {},
   "outputs": [
    {
     "data": {
      "text/html": [
       "<div>\n",
       "<style scoped>\n",
       "    .dataframe tbody tr th:only-of-type {\n",
       "        vertical-align: middle;\n",
       "    }\n",
       "\n",
       "    .dataframe tbody tr th {\n",
       "        vertical-align: top;\n",
       "    }\n",
       "\n",
       "    .dataframe thead th {\n",
       "        text-align: right;\n",
       "    }\n",
       "</style>\n",
       "<table border=\"1\" class=\"dataframe\">\n",
       "  <thead>\n",
       "    <tr style=\"text-align: right;\">\n",
       "      <th></th>\n",
       "      <th>finanças</th>\n",
       "      <th>custos</th>\n",
       "      <th>marketing</th>\n",
       "      <th>atuária</th>\n",
       "    </tr>\n",
       "  </thead>\n",
       "  <tbody>\n",
       "    <tr>\n",
       "      <th>finanças</th>\n",
       "      <td>1.000000</td>\n",
       "      <td>0.755550</td>\n",
       "      <td>-0.029531</td>\n",
       "      <td>0.710871</td>\n",
       "    </tr>\n",
       "    <tr>\n",
       "      <th>custos</th>\n",
       "      <td>0.755550</td>\n",
       "      <td>1.000000</td>\n",
       "      <td>0.002856</td>\n",
       "      <td>0.808092</td>\n",
       "    </tr>\n",
       "    <tr>\n",
       "      <th>marketing</th>\n",
       "      <td>-0.029531</td>\n",
       "      <td>0.002856</td>\n",
       "      <td>1.000000</td>\n",
       "      <td>-0.044346</td>\n",
       "    </tr>\n",
       "    <tr>\n",
       "      <th>atuária</th>\n",
       "      <td>0.710871</td>\n",
       "      <td>0.808092</td>\n",
       "      <td>-0.044346</td>\n",
       "      <td>1.000000</td>\n",
       "    </tr>\n",
       "  </tbody>\n",
       "</table>\n",
       "</div>"
      ],
      "text/plain": [
       "           finanças    custos  marketing   atuária\n",
       "finanças   1.000000  0.755550  -0.029531  0.710871\n",
       "custos     0.755550  1.000000   0.002856  0.808092\n",
       "marketing -0.029531  0.002856   1.000000 -0.044346\n",
       "atuária    0.710871  0.808092  -0.044346  1.000000"
      ]
     },
     "execution_count": 13,
     "metadata": {},
     "output_type": "execute_result"
    }
   ],
   "source": [
    "correlacao = nota.corr()\n",
    "correlacao"
   ]
  },
  {
   "cell_type": "code",
   "execution_count": 14,
   "id": "f1c4ead5",
   "metadata": {},
   "outputs": [
    {
     "data": {
      "image/png": "[encoded data removed]",
      "text/plain": [
       "<Figure size 1440x576 with 2 Axes>"
      ]
     },
     "metadata": {
      "needs_background": "light"
     },
     "output_type": "display_data"
    }
   ],
   "source": [
    "plt.figure(figsize=(20,8))\n",
    "ax = sns.heatmap(correlacao, annot= True, center=1, cmap='RdYlGn')\n",
    "ax = ax"
   ]
  },
  {
   "cell_type": "markdown",
   "id": "533fb4c5",
   "metadata": {},
   "source": [
    "## Elaborando a Análise Fatorial por Componentes Principais PCA"
   ]
  },
  {
   "cell_type": "markdown",
   "id": "ffe2fff6",
   "metadata": {},
   "source": [
    "### Teste de esfericidade"
   ]
  },
  {
   "cell_type": "code",
   "execution_count": 15,
   "id": "c20a7a0e",
   "metadata": {},
   "outputs": [
    {
     "data": {
      "text/plain": [
       "191.87909970380872"
      ]
     },
     "execution_count": 15,
     "metadata": {},
     "output_type": "execute_result"
    }
   ],
   "source": [
    "Qui2_Bartlett = -((nota.shape[0]-1)-(2*correlacao.shape[0]+5)/6)*np.log(np.linalg.det(correlacao))\n",
    "Qui2_Bartlett"
   ]
  },
  {
   "cell_type": "code",
   "execution_count": 16,
   "id": "ec9ac003",
   "metadata": {},
   "outputs": [
    {
     "data": {
      "text/plain": [
       "6.0"
      ]
     },
     "execution_count": 16,
     "metadata": {},
     "output_type": "execute_result"
    }
   ],
   "source": [
    "#graus de liberdade\n",
    "df = nota.shape[1]*(nota.shape[1]-1)/2\n",
    "df"
   ]
  },
  {
   "cell_type": "code",
   "execution_count": 17,
   "id": "e2123c99",
   "metadata": {},
   "outputs": [
    {
     "data": {
      "text/plain": [
       "0.0"
      ]
     },
     "execution_count": 17,
     "metadata": {},
     "output_type": "execute_result"
    }
   ],
   "source": [
    "pvalue = 1 -  s.chi2.cdf(Qui2_Bartlett, df)\n",
    "pvalue"
   ]
  },
  {
   "cell_type": "markdown",
   "id": "c0651245",
   "metadata": {},
   "source": [
    "como o p valor deu menor que 5%, descartamos a hipótese nula de que a matriz de correlação é igual a matriz identidade"
   ]
  },
  {
   "cell_type": "markdown",
   "id": "a89e14a0",
   "metadata": {},
   "source": [
    "### Ajuste dos dados"
   ]
  },
  {
   "cell_type": "code",
   "execution_count": 18,
   "id": "05e4217c",
   "metadata": {},
   "outputs": [],
   "source": [
    "znota = s.zscore(nota)\n",
    "n = nota.shape[1]"
   ]
  },
  {
   "cell_type": "code",
   "execution_count": 19,
   "id": "c89e1fac",
   "metadata": {},
   "outputs": [],
   "source": [
    "pca = PCA(n_components=n, )"
   ]
  },
  {
   "cell_type": "code",
   "execution_count": 20,
   "id": "28bc007d",
   "metadata": {},
   "outputs": [
    {
     "data": {
      "text/html": [
       "<style>#sk-container-id-1 {color: black;background-color: white;}#sk-container-id-1 pre{padding: 0;}#sk-container-id-1 div.sk-toggleable {background-color: white;}#sk-container-id-1 label.sk-toggleable__label {cursor: pointer;display: block;width: 100%;margin-bottom: 0;padding: 0.3em;box-sizing: border-box;text-align: center;}#sk-container-id-1 label.sk-toggleable__label-arrow:before {content: \"▸\";float: left;margin-right: 0.25em;color: #696969;}#sk-container-id-1 label.sk-toggleable__label-arrow:hover:before {color: black;}#sk-container-id-1 div.sk-estimator:hover label.sk-toggleable__label-arrow:before {color: black;}#sk-container-id-1 div.sk-toggleable__content {max-height: 0;max-width: 0;overflow: hidden;text-align: left;background-color: #f0f8ff;}#sk-container-id-1 div.sk-toggleable__content pre {margin: 0.2em;color: black;border-radius: 0.25em;background-color: #f0f8ff;}#sk-container-id-1 input.sk-toggleable__control:checked~div.sk-toggleable__content {max-height: 200px;max-width: 100%;overflow: auto;}#sk-container-id-1 input.sk-toggleable__control:checked~label.sk-toggleable__label-arrow:before {content: \"▾\";}#sk-container-id-1 div.sk-estimator input.sk-toggleable__control:checked~label.sk-toggleable__label {background-color: #d4ebff;}#sk-container-id-1 div.sk-label input.sk-toggleable__control:checked~label.sk-toggleable__label {background-color: #d4ebff;}#sk-container-id-1 input.sk-hidden--visually {border: 0;clip: rect(1px 1px 1px 1px);clip: rect(1px, 1px, 1px, 1px);height: 1px;margin: -1px;overflow: hidden;padding: 0;position: absolute;width: 1px;}#sk-container-id-1 div.sk-estimator {font-family: monospace;background-color: #f0f8ff;border: 1px dotted black;border-radius: 0.25em;box-sizing: border-box;margin-bottom: 0.5em;}#sk-container-id-1 div.sk-estimator:hover {background-color: #d4ebff;}#sk-container-id-1 div.sk-parallel-item::after {content: \"\";width: 100%;border-bottom: 1px solid gray;flex-grow: 1;}#sk-container-id-1 div.sk-label:hover label.sk-toggleable__label {background-color: #d4ebff;}#sk-container-id-1 div.sk-serial::before {content: \"\";position: absolute;border-left: 1px solid gray;box-sizing: border-box;top: 0;bottom: 0;left: 50%;z-index: 0;}#sk-container-id-1 div.sk-serial {display: flex;flex-direction: column;align-items: center;background-color: white;padding-right: 0.2em;padding-left: 0.2em;position: relative;}#sk-container-id-1 div.sk-item {position: relative;z-index: 1;}#sk-container-id-1 div.sk-parallel {display: flex;align-items: stretch;justify-content: center;background-color: white;position: relative;}#sk-container-id-1 div.sk-item::before, #sk-container-id-1 div.sk-parallel-item::before {content: \"\";position: absolute;border-left: 1px solid gray;box-sizing: border-box;top: 0;bottom: 0;left: 50%;z-index: -1;}#sk-container-id-1 div.sk-parallel-item {display: flex;flex-direction: column;z-index: 1;position: relative;background-color: white;}#sk-container-id-1 div.sk-parallel-item:first-child::after {align-self: flex-end;width: 50%;}#sk-container-id-1 div.sk-parallel-item:last-child::after {align-self: flex-start;width: 50%;}#sk-container-id-1 div.sk-parallel-item:only-child::after {width: 0;}#sk-container-id-1 div.sk-dashed-wrapped {border: 1px dashed gray;margin: 0 0.4em 0.5em 0.4em;box-sizing: border-box;padding-bottom: 0.4em;background-color: white;}#sk-container-id-1 div.sk-label label {font-family: monospace;font-weight: bold;display: inline-block;line-height: 1.2em;}#sk-container-id-1 div.sk-label-container {text-align: center;}#sk-container-id-1 div.sk-container {/* jupyter's `normalize.less` sets `[hidden] { display: none; }` but bootstrap.min.css set `[hidden] { display: none !important; }` so we also need the `!important` here to be able to override the default hidden behavior on the sphinx rendered scikit-learn.org. See: https://github.com/scikit-learn/scikit-learn/issues/21755 */display: inline-block !important;position: relative;}#sk-container-id-1 div.sk-text-repr-fallback {display: none;}</style><div id=\"sk-container-id-1\" class=\"sk-top-container\"><div class=\"sk-text-repr-fallback\"><pre>PCA(n_components=4)</pre><b>In a Jupyter environment, please rerun this cell to show the HTML representation or trust the notebook. <br />On GitHub, the HTML representation is unable to render, please try loading this page with nbviewer.org.</b></div><div class=\"sk-container\" hidden><div class=\"sk-item\"><div class=\"sk-estimator sk-toggleable\"><input class=\"sk-toggleable__control sk-hidden--visually\" id=\"sk-estimator-id-1\" type=\"checkbox\" checked><label for=\"sk-estimator-id-1\" class=\"sk-toggleable__label sk-toggleable__label-arrow\">PCA</label><div class=\"sk-toggleable__content\"><pre>PCA(n_components=4)</pre></div></div></div></div></div>"
      ],
      "text/plain": [
       "PCA(n_components=4)"
      ]
     },
     "execution_count": 20,
     "metadata": {},
     "output_type": "execute_result"
    }
   ],
   "source": [
    "pca.fit(znota)"
   ]
  },
  {
   "cell_type": "markdown",
   "id": "7a6695d3",
   "metadata": {},
   "source": [
    "### Encontrando AutoValores e AutoVetores"
   ]
  },
  {
   "cell_type": "code",
   "execution_count": 21,
   "id": "2b62c3de",
   "metadata": {},
   "outputs": [],
   "source": [
    "dvetores = pd.DataFrame(np.transpose(pca.components_), columns=['PC'+str(i+1) for i in range(pca.n_components)], index = nota.columns)"
   ]
  },
  {
   "cell_type": "code",
   "execution_count": 22,
   "id": "e6a263f8",
   "metadata": {},
   "outputs": [],
   "source": [
    "dvalores = pd.DataFrame(pca.explained_variance_, columns=['auto_valores'])\n",
    "dvalores['peso']= pca.explained_variance_ratio_\n",
    "dvalores['acm_pesos'] = 0\n",
    "for i in range(dvalores.shape[0]):\n",
    "    if (i==0):\n",
    "        dvalores['acm_pesos'].iloc[i] = dvalores['peso'].iloc[i]\n",
    "    else:\n",
    "        dvalores['acm_pesos'].iloc[i] = dvalores['acm_pesos'].iloc[i-1]+dvalores['peso'].iloc[i]"
   ]
  },
  {
   "cell_type": "code",
   "execution_count": 23,
   "id": "a9bf6b32",
   "metadata": {},
   "outputs": [
    {
     "data": {
      "text/html": [
       "<div>\n",
       "<style scoped>\n",
       "    .dataframe tbody tr th:only-of-type {\n",
       "        vertical-align: middle;\n",
       "    }\n",
       "\n",
       "    .dataframe tbody tr th {\n",
       "        vertical-align: top;\n",
       "    }\n",
       "\n",
       "    .dataframe thead th {\n",
       "        text-align: right;\n",
       "    }\n",
       "</style>\n",
       "<table border=\"1\" class=\"dataframe\">\n",
       "  <thead>\n",
       "    <tr style=\"text-align: right;\">\n",
       "      <th></th>\n",
       "      <th>auto_valores</th>\n",
       "      <th>peso</th>\n",
       "      <th>acm_pesos</th>\n",
       "    </tr>\n",
       "  </thead>\n",
       "  <tbody>\n",
       "    <tr>\n",
       "      <th>0</th>\n",
       "      <td>2.543562</td>\n",
       "      <td>0.629532</td>\n",
       "      <td>0.629532</td>\n",
       "    </tr>\n",
       "    <tr>\n",
       "      <th>1</th>\n",
       "      <td>1.010484</td>\n",
       "      <td>0.250095</td>\n",
       "      <td>0.879627</td>\n",
       "    </tr>\n",
       "    <tr>\n",
       "      <th>2</th>\n",
       "      <td>0.300622</td>\n",
       "      <td>0.074404</td>\n",
       "      <td>0.954030</td>\n",
       "    </tr>\n",
       "    <tr>\n",
       "      <th>3</th>\n",
       "      <td>0.185735</td>\n",
       "      <td>0.045970</td>\n",
       "      <td>1.000000</td>\n",
       "    </tr>\n",
       "  </tbody>\n",
       "</table>\n",
       "</div>"
      ],
      "text/plain": [
       "   auto_valores      peso  acm_pesos\n",
       "0      2.543562  0.629532   0.629532\n",
       "1      1.010484  0.250095   0.879627\n",
       "2      0.300622  0.074404   0.954030\n",
       "3      0.185735  0.045970   1.000000"
      ]
     },
     "execution_count": 23,
     "metadata": {},
     "output_type": "execute_result"
    }
   ],
   "source": [
    "dvalores"
   ]
  },
  {
   "cell_type": "code",
   "execution_count": 24,
   "id": "0e751927",
   "metadata": {},
   "outputs": [
    {
     "data": {
      "text/html": [
       "<div>\n",
       "<style scoped>\n",
       "    .dataframe tbody tr th:only-of-type {\n",
       "        vertical-align: middle;\n",
       "    }\n",
       "\n",
       "    .dataframe tbody tr th {\n",
       "        vertical-align: top;\n",
       "    }\n",
       "\n",
       "    .dataframe thead th {\n",
       "        text-align: right;\n",
       "    }\n",
       "</style>\n",
       "<table border=\"1\" class=\"dataframe\">\n",
       "  <thead>\n",
       "    <tr style=\"text-align: right;\">\n",
       "      <th></th>\n",
       "      <th>PC1</th>\n",
       "      <th>PC2</th>\n",
       "      <th>PC3</th>\n",
       "      <th>PC4</th>\n",
       "    </tr>\n",
       "  </thead>\n",
       "  <tbody>\n",
       "    <tr>\n",
       "      <th>finanças</th>\n",
       "      <td>0.564</td>\n",
       "      <td>-0.007</td>\n",
       "      <td>-0.801</td>\n",
       "      <td>-0.202</td>\n",
       "    </tr>\n",
       "    <tr>\n",
       "      <th>custos</th>\n",
       "      <td>0.589</td>\n",
       "      <td>-0.049</td>\n",
       "      <td>0.220</td>\n",
       "      <td>0.777</td>\n",
       "    </tr>\n",
       "    <tr>\n",
       "      <th>marketing</th>\n",
       "      <td>-0.027</td>\n",
       "      <td>-0.999</td>\n",
       "      <td>0.001</td>\n",
       "      <td>-0.042</td>\n",
       "    </tr>\n",
       "    <tr>\n",
       "      <th>atuária</th>\n",
       "      <td>0.578</td>\n",
       "      <td>0.010</td>\n",
       "      <td>0.558</td>\n",
       "      <td>-0.595</td>\n",
       "    </tr>\n",
       "  </tbody>\n",
       "</table>\n",
       "</div>"
      ],
      "text/plain": [
       "             PC1    PC2    PC3    PC4\n",
       "finanças   0.564 -0.007 -0.801 -0.202\n",
       "custos     0.589 -0.049  0.220  0.777\n",
       "marketing -0.027 -0.999  0.001 -0.042\n",
       "atuária    0.578  0.010  0.558 -0.595"
      ]
     },
     "execution_count": 24,
     "metadata": {},
     "output_type": "execute_result"
    }
   ],
   "source": [
    "dvetores.round(3)"
   ]
  },
  {
   "cell_type": "markdown",
   "id": "11bbe00c",
   "metadata": {},
   "source": [
    "### Scores Fatoriais"
   ]
  },
  {
   "cell_type": "code",
   "execution_count": 25,
   "id": "60dcd4b9",
   "metadata": {},
   "outputs": [
    {
     "data": {
      "text/html": [
       "<div>\n",
       "<style scoped>\n",
       "    .dataframe tbody tr th:only-of-type {\n",
       "        vertical-align: middle;\n",
       "    }\n",
       "\n",
       "    .dataframe tbody tr th {\n",
       "        vertical-align: top;\n",
       "    }\n",
       "\n",
       "    .dataframe thead th {\n",
       "        text-align: right;\n",
       "    }\n",
       "</style>\n",
       "<table border=\"1\" class=\"dataframe\">\n",
       "  <thead>\n",
       "    <tr style=\"text-align: right;\">\n",
       "      <th></th>\n",
       "      <th>PC1</th>\n",
       "      <th>PC2</th>\n",
       "      <th>PC3</th>\n",
       "      <th>PC4</th>\n",
       "    </tr>\n",
       "  </thead>\n",
       "  <tbody>\n",
       "    <tr>\n",
       "      <th>finanças</th>\n",
       "      <td>0.354</td>\n",
       "      <td>-0.007</td>\n",
       "      <td>-1.460</td>\n",
       "      <td>-0.468</td>\n",
       "    </tr>\n",
       "    <tr>\n",
       "      <th>custos</th>\n",
       "      <td>0.369</td>\n",
       "      <td>-0.048</td>\n",
       "      <td>0.400</td>\n",
       "      <td>1.802</td>\n",
       "    </tr>\n",
       "    <tr>\n",
       "      <th>marketing</th>\n",
       "      <td>-0.017</td>\n",
       "      <td>-0.994</td>\n",
       "      <td>0.001</td>\n",
       "      <td>-0.098</td>\n",
       "    </tr>\n",
       "    <tr>\n",
       "      <th>atuária</th>\n",
       "      <td>0.363</td>\n",
       "      <td>0.010</td>\n",
       "      <td>1.017</td>\n",
       "      <td>-1.382</td>\n",
       "    </tr>\n",
       "  </tbody>\n",
       "</table>\n",
       "</div>"
      ],
      "text/plain": [
       "             PC1    PC2    PC3    PC4\n",
       "finanças   0.354 -0.007 -1.460 -0.468\n",
       "custos     0.369 -0.048  0.400  1.802\n",
       "marketing -0.017 -0.994  0.001 -0.098\n",
       "atuária    0.363  0.010  1.017 -1.382"
      ]
     },
     "execution_count": 25,
     "metadata": {},
     "output_type": "execute_result"
    }
   ],
   "source": [
    "matriz_score = np.divide(dvetores,np.sqrt(dvalores['auto_valores']))\n",
    "matriz_score.round(3)"
   ]
  },
  {
   "cell_type": "markdown",
   "id": "96871d92",
   "metadata": {},
   "source": [
    "### Cálculo dos fatores de cada observação"
   ]
  },
  {
   "cell_type": "code",
   "execution_count": 26,
   "id": "063cc1be",
   "metadata": {},
   "outputs": [
    {
     "data": {
      "text/html": [
       "<div>\n",
       "<style scoped>\n",
       "    .dataframe tbody tr th:only-of-type {\n",
       "        vertical-align: middle;\n",
       "    }\n",
       "\n",
       "    .dataframe tbody tr th {\n",
       "        vertical-align: top;\n",
       "    }\n",
       "\n",
       "    .dataframe thead th {\n",
       "        text-align: right;\n",
       "    }\n",
       "</style>\n",
       "<table border=\"1\" class=\"dataframe\">\n",
       "  <thead>\n",
       "    <tr style=\"text-align: right;\">\n",
       "      <th></th>\n",
       "      <th>PC1</th>\n",
       "      <th>PC2</th>\n",
       "      <th>PC3</th>\n",
       "      <th>PC4</th>\n",
       "    </tr>\n",
       "    <tr>\n",
       "      <th>estudante</th>\n",
       "      <th></th>\n",
       "      <th></th>\n",
       "      <th></th>\n",
       "      <th></th>\n",
       "    </tr>\n",
       "  </thead>\n",
       "  <tbody>\n",
       "    <tr>\n",
       "      <th>Gabriela</th>\n",
       "      <td>0.024172</td>\n",
       "      <td>1.673770</td>\n",
       "      <td>0.096231</td>\n",
       "      <td>-0.318691</td>\n",
       "    </tr>\n",
       "    <tr>\n",
       "      <th>Luiz Felipe</th>\n",
       "      <td>-1.717726</td>\n",
       "      <td>-1.510482</td>\n",
       "      <td>-0.187913</td>\n",
       "      <td>0.355856</td>\n",
       "    </tr>\n",
       "    <tr>\n",
       "      <th>Patrícia</th>\n",
       "      <td>-0.957243</td>\n",
       "      <td>0.607130</td>\n",
       "      <td>0.346554</td>\n",
       "      <td>0.287729</td>\n",
       "    </tr>\n",
       "    <tr>\n",
       "      <th>Gustavo</th>\n",
       "      <td>2.146365</td>\n",
       "      <td>-0.891490</td>\n",
       "      <td>-0.178821</td>\n",
       "      <td>0.097955</td>\n",
       "    </tr>\n",
       "    <tr>\n",
       "      <th>Letícia</th>\n",
       "      <td>-1.561913</td>\n",
       "      <td>0.926875</td>\n",
       "      <td>-0.089034</td>\n",
       "      <td>-0.164745</td>\n",
       "    </tr>\n",
       "    <tr>\n",
       "      <th>Ovídio</th>\n",
       "      <td>3.157225</td>\n",
       "      <td>1.561143</td>\n",
       "      <td>0.445263</td>\n",
       "      <td>0.362648</td>\n",
       "    </tr>\n",
       "    <tr>\n",
       "      <th>Leonor</th>\n",
       "      <td>-0.178089</td>\n",
       "      <td>-0.832617</td>\n",
       "      <td>0.170823</td>\n",
       "      <td>0.183749</td>\n",
       "    </tr>\n",
       "    <tr>\n",
       "      <th>Dalila</th>\n",
       "      <td>0.385718</td>\n",
       "      <td>-0.139558</td>\n",
       "      <td>0.380157</td>\n",
       "      <td>0.267532</td>\n",
       "    </tr>\n",
       "    <tr>\n",
       "      <th>Antônio</th>\n",
       "      <td>-0.448755</td>\n",
       "      <td>0.600746</td>\n",
       "      <td>-0.374850</td>\n",
       "      <td>0.105876</td>\n",
       "    </tr>\n",
       "    <tr>\n",
       "      <th>Júlia</th>\n",
       "      <td>-0.412435</td>\n",
       "      <td>0.600290</td>\n",
       "      <td>-0.426379</td>\n",
       "      <td>0.092886</td>\n",
       "    </tr>\n",
       "  </tbody>\n",
       "</table>\n",
       "</div>"
      ],
      "text/plain": [
       "                  PC1       PC2       PC3       PC4\n",
       "estudante                                          \n",
       "Gabriela     0.024172  1.673770  0.096231 -0.318691\n",
       "Luiz Felipe -1.717726 -1.510482 -0.187913  0.355856\n",
       "Patrícia    -0.957243  0.607130  0.346554  0.287729\n",
       "Gustavo      2.146365 -0.891490 -0.178821  0.097955\n",
       "Letícia     -1.561913  0.926875 -0.089034 -0.164745\n",
       "Ovídio       3.157225  1.561143  0.445263  0.362648\n",
       "Leonor      -0.178089 -0.832617  0.170823  0.183749\n",
       "Dalila       0.385718 -0.139558  0.380157  0.267532\n",
       "Antônio     -0.448755  0.600746 -0.374850  0.105876\n",
       "Júlia       -0.412435  0.600290 -0.426379  0.092886"
      ]
     },
     "execution_count": 26,
     "metadata": {},
     "output_type": "execute_result"
    }
   ],
   "source": [
    "nota_transformada = pd.DataFrame(pca.fit_transform(znota), columns=dvetores.columns, index = nota.index)\n",
    "nota_transformada.head(10)"
   ]
  },
  {
   "cell_type": "code",
   "execution_count": 27,
   "id": "58675558",
   "metadata": {},
   "outputs": [
    {
     "data": {
      "text/html": [
       "<div>\n",
       "<style scoped>\n",
       "    .dataframe tbody tr th:only-of-type {\n",
       "        vertical-align: middle;\n",
       "    }\n",
       "\n",
       "    .dataframe tbody tr th {\n",
       "        vertical-align: top;\n",
       "    }\n",
       "\n",
       "    .dataframe thead th {\n",
       "        text-align: right;\n",
       "    }\n",
       "</style>\n",
       "<table border=\"1\" class=\"dataframe\">\n",
       "  <thead>\n",
       "    <tr style=\"text-align: right;\">\n",
       "      <th></th>\n",
       "      <th>PC1</th>\n",
       "      <th>PC2</th>\n",
       "      <th>PC3</th>\n",
       "      <th>PC4</th>\n",
       "    </tr>\n",
       "  </thead>\n",
       "  <tbody>\n",
       "    <tr>\n",
       "      <th>PC1</th>\n",
       "      <td>1.0</td>\n",
       "      <td>0.0</td>\n",
       "      <td>0.0</td>\n",
       "      <td>0.0</td>\n",
       "    </tr>\n",
       "    <tr>\n",
       "      <th>PC2</th>\n",
       "      <td>0.0</td>\n",
       "      <td>1.0</td>\n",
       "      <td>-0.0</td>\n",
       "      <td>0.0</td>\n",
       "    </tr>\n",
       "    <tr>\n",
       "      <th>PC3</th>\n",
       "      <td>0.0</td>\n",
       "      <td>-0.0</td>\n",
       "      <td>1.0</td>\n",
       "      <td>0.0</td>\n",
       "    </tr>\n",
       "    <tr>\n",
       "      <th>PC4</th>\n",
       "      <td>0.0</td>\n",
       "      <td>0.0</td>\n",
       "      <td>0.0</td>\n",
       "      <td>1.0</td>\n",
       "    </tr>\n",
       "  </tbody>\n",
       "</table>\n",
       "</div>"
      ],
      "text/plain": [
       "     PC1  PC2  PC3  PC4\n",
       "PC1  1.0  0.0  0.0  0.0\n",
       "PC2  0.0  1.0 -0.0  0.0\n",
       "PC3  0.0 -0.0  1.0  0.0\n",
       "PC4  0.0  0.0  0.0  1.0"
      ]
     },
     "execution_count": 27,
     "metadata": {},
     "output_type": "execute_result"
    }
   ],
   "source": [
    "# mostrando ortogonalidade dos dados\n",
    "nota_transformada.corr().round()"
   ]
  },
  {
   "cell_type": "markdown",
   "id": "f4639fb9",
   "metadata": {},
   "source": [
    "### Cálculo da carga fatorial"
   ]
  },
  {
   "cell_type": "code",
   "execution_count": 28,
   "id": "9271df06",
   "metadata": {},
   "outputs": [],
   "source": [
    "correl_final = pd.concat([nota.iloc[:,], nota_transformada], axis=1, \n",
    "                         keys=['nota_transformada', 'nota']).corr().loc['nota_transformada', 'nota']"
   ]
  },
  {
   "cell_type": "code",
   "execution_count": 29,
   "id": "fb75aaf2",
   "metadata": {},
   "outputs": [
    {
     "data": {
      "text/html": [
       "<div>\n",
       "<style scoped>\n",
       "    .dataframe tbody tr th:only-of-type {\n",
       "        vertical-align: middle;\n",
       "    }\n",
       "\n",
       "    .dataframe tbody tr th {\n",
       "        vertical-align: top;\n",
       "    }\n",
       "\n",
       "    .dataframe thead th {\n",
       "        text-align: right;\n",
       "    }\n",
       "</style>\n",
       "<table border=\"1\" class=\"dataframe\">\n",
       "  <thead>\n",
       "    <tr style=\"text-align: right;\">\n",
       "      <th></th>\n",
       "      <th>PC1</th>\n",
       "      <th>PC2</th>\n",
       "      <th>PC3</th>\n",
       "      <th>PC4</th>\n",
       "    </tr>\n",
       "  </thead>\n",
       "  <tbody>\n",
       "    <tr>\n",
       "      <th>finanças</th>\n",
       "      <td>0.895</td>\n",
       "      <td>-0.007</td>\n",
       "      <td>-0.437</td>\n",
       "      <td>-0.087</td>\n",
       "    </tr>\n",
       "    <tr>\n",
       "      <th>custos</th>\n",
       "      <td>0.934</td>\n",
       "      <td>-0.049</td>\n",
       "      <td>0.120</td>\n",
       "      <td>0.333</td>\n",
       "    </tr>\n",
       "    <tr>\n",
       "      <th>marketing</th>\n",
       "      <td>-0.042</td>\n",
       "      <td>-0.999</td>\n",
       "      <td>0.000</td>\n",
       "      <td>-0.018</td>\n",
       "    </tr>\n",
       "    <tr>\n",
       "      <th>atuária</th>\n",
       "      <td>0.918</td>\n",
       "      <td>0.010</td>\n",
       "      <td>0.304</td>\n",
       "      <td>-0.255</td>\n",
       "    </tr>\n",
       "  </tbody>\n",
       "</table>\n",
       "</div>"
      ],
      "text/plain": [
       "             PC1    PC2    PC3    PC4\n",
       "finanças   0.895 -0.007 -0.437 -0.087\n",
       "custos     0.934 -0.049  0.120  0.333\n",
       "marketing -0.042 -0.999  0.000 -0.018\n",
       "atuária    0.918  0.010  0.304 -0.255"
      ]
     },
     "execution_count": 29,
     "metadata": {},
     "output_type": "execute_result"
    }
   ],
   "source": [
    "correl_final.round(3)"
   ]
  },
  {
   "cell_type": "code",
   "execution_count": 30,
   "id": "bd9fca43",
   "metadata": {},
   "outputs": [
    {
     "data": {
      "text/html": [
       "<div>\n",
       "<style scoped>\n",
       "    .dataframe tbody tr th:only-of-type {\n",
       "        vertical-align: middle;\n",
       "    }\n",
       "\n",
       "    .dataframe tbody tr th {\n",
       "        vertical-align: top;\n",
       "    }\n",
       "\n",
       "    .dataframe thead th {\n",
       "        text-align: right;\n",
       "    }\n",
       "</style>\n",
       "<table border=\"1\" class=\"dataframe\">\n",
       "  <thead>\n",
       "    <tr style=\"text-align: right;\">\n",
       "      <th></th>\n",
       "      <th>PC1</th>\n",
       "      <th>PC2</th>\n",
       "      <th>PC3</th>\n",
       "      <th>PC4</th>\n",
       "      <th>comunalidade</th>\n",
       "    </tr>\n",
       "  </thead>\n",
       "  <tbody>\n",
       "    <tr>\n",
       "      <th>finanças</th>\n",
       "      <td>0.895398</td>\n",
       "      <td>-0.007086</td>\n",
       "      <td>-0.436720</td>\n",
       "      <td>-0.086533</td>\n",
       "      <td>1.0</td>\n",
       "    </tr>\n",
       "    <tr>\n",
       "      <th>custos</th>\n",
       "      <td>0.934033</td>\n",
       "      <td>-0.048581</td>\n",
       "      <td>0.119783</td>\n",
       "      <td>0.332978</td>\n",
       "      <td>1.0</td>\n",
       "    </tr>\n",
       "    <tr>\n",
       "      <th>marketing</th>\n",
       "      <td>-0.042466</td>\n",
       "      <td>-0.998933</td>\n",
       "      <td>0.000358</td>\n",
       "      <td>-0.018170</td>\n",
       "      <td>1.0</td>\n",
       "    </tr>\n",
       "    <tr>\n",
       "      <th>atuária</th>\n",
       "      <td>0.917697</td>\n",
       "      <td>0.010133</td>\n",
       "      <td>0.304210</td>\n",
       "      <td>-0.255315</td>\n",
       "      <td>1.0</td>\n",
       "    </tr>\n",
       "  </tbody>\n",
       "</table>\n",
       "</div>"
      ],
      "text/plain": [
       "                PC1       PC2       PC3       PC4  comunalidade\n",
       "finanças   0.895398 -0.007086 -0.436720 -0.086533           1.0\n",
       "custos     0.934033 -0.048581  0.119783  0.332978           1.0\n",
       "marketing -0.042466 -0.998933  0.000358 -0.018170           1.0\n",
       "atuária    0.917697  0.010133  0.304210 -0.255315           1.0"
      ]
     },
     "execution_count": 30,
     "metadata": {},
     "output_type": "execute_result"
    }
   ],
   "source": [
    "correl_final['comunalidade']=(correl_final**2).sum(axis=1).round(3)\n",
    "correl_final\n",
    "         "
   ]
  },
  {
   "cell_type": "code",
   "execution_count": 31,
   "id": "50b5409b",
   "metadata": {},
   "outputs": [
    {
     "data": {
      "text/plain": [
       "PC1             2.518\n",
       "PC2             1.000\n",
       "PC3             0.298\n",
       "PC4             0.184\n",
       "comunalidade    4.000\n",
       "dtype: float64"
      ]
     },
     "execution_count": 31,
     "metadata": {},
     "output_type": "execute_result"
    }
   ],
   "source": [
    "(correl_final**2).sum(axis=0).round(3)"
   ]
  },
  {
   "cell_type": "markdown",
   "id": "9e0d7d77",
   "metadata": {},
   "source": [
    "# Selecionando componentes a partir de autovalores maiores que 1"
   ]
  },
  {
   "cell_type": "code",
   "execution_count": 32,
   "id": "fbb292a5",
   "metadata": {},
   "outputs": [],
   "source": [
    "k = dvalores[dvalores['auto_valores']>1].shape[0]\n",
    "\n",
    "pca = PCA(n_components=k, random_state=12345)\n",
    "pca.fit(znota)\n",
    "dvetores = pd.DataFrame(np.transpose(pca.components_), columns=['PC'+str(i+1) for i in range(pca.n_components)])\n",
    "dvalores = pd.DataFrame(pca.explained_variance_, columns=['auto_valores'])\n",
    "dvalores['peso']= pca.explained_variance_ratio_\n",
    "dvalores['acm_pesos'] = 0\n",
    "for i in range(dvalores.shape[0]):\n",
    "    if (i==0):\n",
    "        dvalores['acm_pesos'].iloc[i] = dvalores['peso'].iloc[i]\n",
    "    else:\n",
    "        dvalores['acm_pesos'].iloc[i] = dvalores['acm_pesos'].iloc[i-1]+dvalores['peso'].iloc[i]"
   ]
  },
  {
   "cell_type": "code",
   "execution_count": 33,
   "id": "6ed2311c",
   "metadata": {},
   "outputs": [
    {
     "data": {
      "text/html": [
       "<div>\n",
       "<style scoped>\n",
       "    .dataframe tbody tr th:only-of-type {\n",
       "        vertical-align: middle;\n",
       "    }\n",
       "\n",
       "    .dataframe tbody tr th {\n",
       "        vertical-align: top;\n",
       "    }\n",
       "\n",
       "    .dataframe thead th {\n",
       "        text-align: right;\n",
       "    }\n",
       "</style>\n",
       "<table border=\"1\" class=\"dataframe\">\n",
       "  <thead>\n",
       "    <tr style=\"text-align: right;\">\n",
       "      <th></th>\n",
       "      <th>auto_valores</th>\n",
       "      <th>peso</th>\n",
       "      <th>acm_pesos</th>\n",
       "    </tr>\n",
       "  </thead>\n",
       "  <tbody>\n",
       "    <tr>\n",
       "      <th>0</th>\n",
       "      <td>2.543562</td>\n",
       "      <td>0.629532</td>\n",
       "      <td>0.629532</td>\n",
       "    </tr>\n",
       "    <tr>\n",
       "      <th>1</th>\n",
       "      <td>1.010484</td>\n",
       "      <td>0.250095</td>\n",
       "      <td>0.879627</td>\n",
       "    </tr>\n",
       "  </tbody>\n",
       "</table>\n",
       "</div>"
      ],
      "text/plain": [
       "   auto_valores      peso  acm_pesos\n",
       "0      2.543562  0.629532   0.629532\n",
       "1      1.010484  0.250095   0.879627"
      ]
     },
     "execution_count": 33,
     "metadata": {},
     "output_type": "execute_result"
    }
   ],
   "source": [
    "dvalores"
   ]
  },
  {
   "cell_type": "code",
   "execution_count": 34,
   "id": "9b3aed59",
   "metadata": {},
   "outputs": [
    {
     "data": {
      "text/html": [
       "<div>\n",
       "<style scoped>\n",
       "    .dataframe tbody tr th:only-of-type {\n",
       "        vertical-align: middle;\n",
       "    }\n",
       "\n",
       "    .dataframe tbody tr th {\n",
       "        vertical-align: top;\n",
       "    }\n",
       "\n",
       "    .dataframe thead th {\n",
       "        text-align: right;\n",
       "    }\n",
       "</style>\n",
       "<table border=\"1\" class=\"dataframe\">\n",
       "  <thead>\n",
       "    <tr style=\"text-align: right;\">\n",
       "      <th></th>\n",
       "      <th>PC1</th>\n",
       "      <th>PC2</th>\n",
       "    </tr>\n",
       "  </thead>\n",
       "  <tbody>\n",
       "    <tr>\n",
       "      <th>0</th>\n",
       "      <td>0.564257</td>\n",
       "      <td>-0.007084</td>\n",
       "    </tr>\n",
       "    <tr>\n",
       "      <th>1</th>\n",
       "      <td>0.588604</td>\n",
       "      <td>-0.048571</td>\n",
       "    </tr>\n",
       "    <tr>\n",
       "      <th>2</th>\n",
       "      <td>-0.026761</td>\n",
       "      <td>-0.998743</td>\n",
       "    </tr>\n",
       "    <tr>\n",
       "      <th>3</th>\n",
       "      <td>0.578310</td>\n",
       "      <td>0.010131</td>\n",
       "    </tr>\n",
       "  </tbody>\n",
       "</table>\n",
       "</div>"
      ],
      "text/plain": [
       "        PC1       PC2\n",
       "0  0.564257 -0.007084\n",
       "1  0.588604 -0.048571\n",
       "2 -0.026761 -0.998743\n",
       "3  0.578310  0.010131"
      ]
     },
     "execution_count": 34,
     "metadata": {},
     "output_type": "execute_result"
    }
   ],
   "source": [
    "dvetores"
   ]
  },
  {
   "cell_type": "code",
   "execution_count": 35,
   "id": "d14acc43",
   "metadata": {},
   "outputs": [],
   "source": [
    "nota_transformada = pd.DataFrame(pca.fit_transform(znota), columns=dvetores.columns, index = nota.index)\n",
    "correl_final = pd.concat([nota, nota_transformada], axis=1, \n",
    "                         keys=['nota_transformada', 'nota']).corr().loc['nota_transformada', 'nota']"
   ]
  },
  {
   "cell_type": "code",
   "execution_count": 36,
   "id": "a9735bab",
   "metadata": {},
   "outputs": [
    {
     "data": {
      "text/html": [
       "<div>\n",
       "<style scoped>\n",
       "    .dataframe tbody tr th:only-of-type {\n",
       "        vertical-align: middle;\n",
       "    }\n",
       "\n",
       "    .dataframe tbody tr th {\n",
       "        vertical-align: top;\n",
       "    }\n",
       "\n",
       "    .dataframe thead th {\n",
       "        text-align: right;\n",
       "    }\n",
       "</style>\n",
       "<table border=\"1\" class=\"dataframe\">\n",
       "  <thead>\n",
       "    <tr style=\"text-align: right;\">\n",
       "      <th></th>\n",
       "      <th>PC1</th>\n",
       "      <th>PC2</th>\n",
       "      <th>comunalidade</th>\n",
       "    </tr>\n",
       "  </thead>\n",
       "  <tbody>\n",
       "    <tr>\n",
       "      <th>finanças</th>\n",
       "      <td>0.895</td>\n",
       "      <td>-0.007</td>\n",
       "      <td>0.802</td>\n",
       "    </tr>\n",
       "    <tr>\n",
       "      <th>custos</th>\n",
       "      <td>0.934</td>\n",
       "      <td>-0.049</td>\n",
       "      <td>0.875</td>\n",
       "    </tr>\n",
       "    <tr>\n",
       "      <th>marketing</th>\n",
       "      <td>-0.042</td>\n",
       "      <td>-0.999</td>\n",
       "      <td>1.000</td>\n",
       "    </tr>\n",
       "    <tr>\n",
       "      <th>atuária</th>\n",
       "      <td>0.918</td>\n",
       "      <td>0.010</td>\n",
       "      <td>0.842</td>\n",
       "    </tr>\n",
       "  </tbody>\n",
       "</table>\n",
       "</div>"
      ],
      "text/plain": [
       "             PC1    PC2  comunalidade\n",
       "finanças   0.895 -0.007         0.802\n",
       "custos     0.934 -0.049         0.875\n",
       "marketing -0.042 -0.999         1.000\n",
       "atuária    0.918  0.010         0.842"
      ]
     },
     "execution_count": 36,
     "metadata": {},
     "output_type": "execute_result"
    }
   ],
   "source": [
    "correl_final['comunalidade'] =(correl_final**2).sum(axis=1)\n",
    "correl_final.round(3)"
   ]
  },
  {
   "cell_type": "markdown",
   "id": "811ac358",
   "metadata": {},
   "source": [
    "### Loading plot com cargas dos 'k' primeiros fatores"
   ]
  },
  {
   "cell_type": "code",
   "execution_count": 37,
   "id": "b17098b5",
   "metadata": {},
   "outputs": [
    {
     "data": {
      "image/png": "[encoded data removed]",
      "text/plain": [
       "<Figure size 1008x576 with 1 Axes>"
      ]
     },
     "metadata": {
      "needs_background": "light"
     },
     "output_type": "display_data"
    }
   ],
   "source": [
    "plt.figure(figsize=(14,8)) \n",
    "plt.axhline(c='orange', ls='--')\n",
    "plt.axvline(c='orange', ls='--')\n",
    "plt.ylabel('PC2', fontsize=24)\n",
    "plt.xlabel('PC1', fontsize=24)\n",
    "plt.title('Loading plot', fontsize = 24, loc='left')\n",
    "ax = sns.scatterplot( x = correl_final['PC1'], y = -correl_final['PC2'], s=250, hue=correl_final.index)\n",
    "ax = ax"
   ]
  },
  {
   "cell_type": "code",
   "execution_count": 38,
   "id": "26884b99",
   "metadata": {},
   "outputs": [
    {
     "data": {
      "text/html": [
       "<div>\n",
       "<style scoped>\n",
       "    .dataframe tbody tr th:only-of-type {\n",
       "        vertical-align: middle;\n",
       "    }\n",
       "\n",
       "    .dataframe tbody tr th {\n",
       "        vertical-align: top;\n",
       "    }\n",
       "\n",
       "    .dataframe thead th {\n",
       "        text-align: right;\n",
       "    }\n",
       "</style>\n",
       "<table border=\"1\" class=\"dataframe\">\n",
       "  <thead>\n",
       "    <tr style=\"text-align: right;\">\n",
       "      <th></th>\n",
       "      <th>finanças</th>\n",
       "      <th>custos</th>\n",
       "      <th>marketing</th>\n",
       "      <th>atuária</th>\n",
       "      <th>PC1</th>\n",
       "      <th>PC2</th>\n",
       "    </tr>\n",
       "    <tr>\n",
       "      <th>estudante</th>\n",
       "      <th></th>\n",
       "      <th></th>\n",
       "      <th></th>\n",
       "      <th></th>\n",
       "      <th></th>\n",
       "      <th></th>\n",
       "    </tr>\n",
       "  </thead>\n",
       "  <tbody>\n",
       "    <tr>\n",
       "      <th>Gabriela</th>\n",
       "      <td>5.8</td>\n",
       "      <td>4.0</td>\n",
       "      <td>1.0</td>\n",
       "      <td>6.0</td>\n",
       "      <td>0.024172</td>\n",
       "      <td>1.673770</td>\n",
       "    </tr>\n",
       "    <tr>\n",
       "      <th>Luiz Felipe</th>\n",
       "      <td>3.1</td>\n",
       "      <td>3.0</td>\n",
       "      <td>10.0</td>\n",
       "      <td>2.0</td>\n",
       "      <td>-1.717726</td>\n",
       "      <td>-1.510482</td>\n",
       "    </tr>\n",
       "    <tr>\n",
       "      <th>Patrícia</th>\n",
       "      <td>3.1</td>\n",
       "      <td>4.0</td>\n",
       "      <td>4.0</td>\n",
       "      <td>4.0</td>\n",
       "      <td>-0.957243</td>\n",
       "      <td>0.607130</td>\n",
       "    </tr>\n",
       "    <tr>\n",
       "      <th>Gustavo</th>\n",
       "      <td>10.0</td>\n",
       "      <td>8.0</td>\n",
       "      <td>8.0</td>\n",
       "      <td>8.0</td>\n",
       "      <td>2.146365</td>\n",
       "      <td>-0.891490</td>\n",
       "    </tr>\n",
       "    <tr>\n",
       "      <th>Letícia</th>\n",
       "      <td>3.4</td>\n",
       "      <td>2.0</td>\n",
       "      <td>3.2</td>\n",
       "      <td>3.2</td>\n",
       "      <td>-1.561913</td>\n",
       "      <td>0.926875</td>\n",
       "    </tr>\n",
       "  </tbody>\n",
       "</table>\n",
       "</div>"
      ],
      "text/plain": [
       "             finanças  custos  marketing  atuária       PC1       PC2\n",
       "estudante                                                            \n",
       "Gabriela          5.8     4.0        1.0      6.0  0.024172  1.673770\n",
       "Luiz Felipe       3.1     3.0       10.0      2.0 -1.717726 -1.510482\n",
       "Patrícia          3.1     4.0        4.0      4.0 -0.957243  0.607130\n",
       "Gustavo          10.0     8.0        8.0      8.0  2.146365 -0.891490\n",
       "Letícia           3.4     2.0        3.2      3.2 -1.561913  0.926875"
      ]
     },
     "execution_count": 38,
     "metadata": {},
     "output_type": "execute_result"
    }
   ],
   "source": [
    "nota_fatorial = pd.concat([nota, nota_transformada], axis=1)\n",
    "nota_fatorial.head()"
   ]
  },
  {
   "cell_type": "code",
   "execution_count": 39,
   "id": "87aab8ab",
   "metadata": {},
   "outputs": [],
   "source": [
    "nota_fatorial['score'] = nota_fatorial['PC1']*dvalores['peso'][0]- nota_fatorial['PC2']*dvalores['peso'][1]"
   ]
  },
  {
   "cell_type": "code",
   "execution_count": 40,
   "id": "ce11a492",
   "metadata": {},
   "outputs": [
    {
     "data": {
      "text/html": [
       "<div>\n",
       "<style scoped>\n",
       "    .dataframe tbody tr th:only-of-type {\n",
       "        vertical-align: middle;\n",
       "    }\n",
       "\n",
       "    .dataframe tbody tr th {\n",
       "        vertical-align: top;\n",
       "    }\n",
       "\n",
       "    .dataframe thead th {\n",
       "        text-align: right;\n",
       "    }\n",
       "</style>\n",
       "<table border=\"1\" class=\"dataframe\">\n",
       "  <thead>\n",
       "    <tr style=\"text-align: right;\">\n",
       "      <th></th>\n",
       "      <th>finanças</th>\n",
       "      <th>custos</th>\n",
       "      <th>marketing</th>\n",
       "      <th>atuária</th>\n",
       "      <th>PC1</th>\n",
       "      <th>PC2</th>\n",
       "      <th>score</th>\n",
       "    </tr>\n",
       "    <tr>\n",
       "      <th>estudante</th>\n",
       "      <th></th>\n",
       "      <th></th>\n",
       "      <th></th>\n",
       "      <th></th>\n",
       "      <th></th>\n",
       "      <th></th>\n",
       "      <th></th>\n",
       "    </tr>\n",
       "  </thead>\n",
       "  <tbody>\n",
       "    <tr>\n",
       "      <th>Gabriela</th>\n",
       "      <td>5.8</td>\n",
       "      <td>4.0</td>\n",
       "      <td>1.0</td>\n",
       "      <td>6.0</td>\n",
       "      <td>0.024172</td>\n",
       "      <td>1.673770</td>\n",
       "      <td>-0.403384</td>\n",
       "    </tr>\n",
       "    <tr>\n",
       "      <th>Luiz Felipe</th>\n",
       "      <td>3.1</td>\n",
       "      <td>3.0</td>\n",
       "      <td>10.0</td>\n",
       "      <td>2.0</td>\n",
       "      <td>-1.717726</td>\n",
       "      <td>-1.510482</td>\n",
       "      <td>-0.703599</td>\n",
       "    </tr>\n",
       "    <tr>\n",
       "      <th>Patrícia</th>\n",
       "      <td>3.1</td>\n",
       "      <td>4.0</td>\n",
       "      <td>4.0</td>\n",
       "      <td>4.0</td>\n",
       "      <td>-0.957243</td>\n",
       "      <td>0.607130</td>\n",
       "      <td>-0.754455</td>\n",
       "    </tr>\n",
       "    <tr>\n",
       "      <th>Gustavo</th>\n",
       "      <td>10.0</td>\n",
       "      <td>8.0</td>\n",
       "      <td>8.0</td>\n",
       "      <td>8.0</td>\n",
       "      <td>2.146365</td>\n",
       "      <td>-0.891490</td>\n",
       "      <td>1.574162</td>\n",
       "    </tr>\n",
       "    <tr>\n",
       "      <th>Letícia</th>\n",
       "      <td>3.4</td>\n",
       "      <td>2.0</td>\n",
       "      <td>3.2</td>\n",
       "      <td>3.2</td>\n",
       "      <td>-1.561913</td>\n",
       "      <td>0.926875</td>\n",
       "      <td>-1.215080</td>\n",
       "    </tr>\n",
       "  </tbody>\n",
       "</table>\n",
       "</div>"
      ],
      "text/plain": [
       "             finanças  custos  marketing  atuária       PC1       PC2  \\\n",
       "estudante                                                               \n",
       "Gabriela          5.8     4.0        1.0      6.0  0.024172  1.673770   \n",
       "Luiz Felipe       3.1     3.0       10.0      2.0 -1.717726 -1.510482   \n",
       "Patrícia          3.1     4.0        4.0      4.0 -0.957243  0.607130   \n",
       "Gustavo          10.0     8.0        8.0      8.0  2.146365 -0.891490   \n",
       "Letícia           3.4     2.0        3.2      3.2 -1.561913  0.926875   \n",
       "\n",
       "                score  \n",
       "estudante              \n",
       "Gabriela    -0.403384  \n",
       "Luiz Felipe -0.703599  \n",
       "Patrícia    -0.754455  \n",
       "Gustavo      1.574162  \n",
       "Letícia     -1.215080  "
      ]
     },
     "execution_count": 40,
     "metadata": {},
     "output_type": "execute_result"
    }
   ],
   "source": [
    "nota_fatorial.head()"
   ]
  },
  {
   "cell_type": "code",
   "execution_count": 41,
   "id": "c78dc7d6",
   "metadata": {},
   "outputs": [
    {
     "data": {
      "text/html": [
       "<div>\n",
       "<style scoped>\n",
       "    .dataframe tbody tr th:only-of-type {\n",
       "        vertical-align: middle;\n",
       "    }\n",
       "\n",
       "    .dataframe tbody tr th {\n",
       "        vertical-align: top;\n",
       "    }\n",
       "\n",
       "    .dataframe thead th {\n",
       "        text-align: right;\n",
       "    }\n",
       "</style>\n",
       "<table border=\"1\" class=\"dataframe\">\n",
       "  <thead>\n",
       "    <tr style=\"text-align: right;\">\n",
       "      <th></th>\n",
       "      <th>finanças</th>\n",
       "      <th>custos</th>\n",
       "      <th>marketing</th>\n",
       "      <th>atuária</th>\n",
       "      <th>PC1</th>\n",
       "      <th>PC2</th>\n",
       "      <th>score</th>\n",
       "    </tr>\n",
       "    <tr>\n",
       "      <th>estudante</th>\n",
       "      <th></th>\n",
       "      <th></th>\n",
       "      <th></th>\n",
       "      <th></th>\n",
       "      <th></th>\n",
       "      <th></th>\n",
       "      <th></th>\n",
       "    </tr>\n",
       "  </thead>\n",
       "  <tbody>\n",
       "    <tr>\n",
       "      <th>Adelino</th>\n",
       "      <td>9.9</td>\n",
       "      <td>10.0</td>\n",
       "      <td>10.0</td>\n",
       "      <td>10.0</td>\n",
       "      <td>3.053479</td>\n",
       "      <td>-1.632706</td>\n",
       "      <td>2.330593</td>\n",
       "    </tr>\n",
       "    <tr>\n",
       "      <th>Renata</th>\n",
       "      <td>7.7</td>\n",
       "      <td>10.0</td>\n",
       "      <td>10.0</td>\n",
       "      <td>10.0</td>\n",
       "      <td>2.653953</td>\n",
       "      <td>-1.627690</td>\n",
       "      <td>2.077824</td>\n",
       "    </tr>\n",
       "    <tr>\n",
       "      <th>Cecília</th>\n",
       "      <td>9.8</td>\n",
       "      <td>10.0</td>\n",
       "      <td>7.0</td>\n",
       "      <td>10.0</td>\n",
       "      <td>3.063847</td>\n",
       "      <td>-0.567786</td>\n",
       "      <td>2.070789</td>\n",
       "    </tr>\n",
       "    <tr>\n",
       "      <th>Felipe</th>\n",
       "      <td>8.7</td>\n",
       "      <td>10.0</td>\n",
       "      <td>9.0</td>\n",
       "      <td>9.0</td>\n",
       "      <td>2.613786</td>\n",
       "      <td>-1.279124</td>\n",
       "      <td>1.965364</td>\n",
       "    </tr>\n",
       "    <tr>\n",
       "      <th>Claudio</th>\n",
       "      <td>9.8</td>\n",
       "      <td>9.0</td>\n",
       "      <td>9.0</td>\n",
       "      <td>9.0</td>\n",
       "      <td>2.572682</td>\n",
       "      <td>-1.261756</td>\n",
       "      <td>1.935143</td>\n",
       "    </tr>\n",
       "    <tr>\n",
       "      <th>...</th>\n",
       "      <td>...</td>\n",
       "      <td>...</td>\n",
       "      <td>...</td>\n",
       "      <td>...</td>\n",
       "      <td>...</td>\n",
       "      <td>...</td>\n",
       "      <td>...</td>\n",
       "    </tr>\n",
       "    <tr>\n",
       "      <th>Elaine</th>\n",
       "      <td>3.1</td>\n",
       "      <td>2.0</td>\n",
       "      <td>2.0</td>\n",
       "      <td>2.0</td>\n",
       "      <td>-1.882518</td>\n",
       "      <td>1.348574</td>\n",
       "      <td>-1.522376</td>\n",
       "    </tr>\n",
       "    <tr>\n",
       "      <th>Carolina</th>\n",
       "      <td>3.1</td>\n",
       "      <td>2.0</td>\n",
       "      <td>2.0</td>\n",
       "      <td>2.0</td>\n",
       "      <td>-1.882518</td>\n",
       "      <td>1.348574</td>\n",
       "      <td>-1.522376</td>\n",
       "    </tr>\n",
       "    <tr>\n",
       "      <th>Ester</th>\n",
       "      <td>0.6</td>\n",
       "      <td>1.9</td>\n",
       "      <td>3.0</td>\n",
       "      <td>3.2</td>\n",
       "      <td>-2.092586</td>\n",
       "      <td>1.006226</td>\n",
       "      <td>-1.569001</td>\n",
       "    </tr>\n",
       "    <tr>\n",
       "      <th>Viviane</th>\n",
       "      <td>0.7</td>\n",
       "      <td>1.9</td>\n",
       "      <td>2.8</td>\n",
       "      <td>2.8</td>\n",
       "      <td>-2.165035</td>\n",
       "      <td>1.075357</td>\n",
       "      <td>-1.631900</td>\n",
       "    </tr>\n",
       "    <tr>\n",
       "      <th>Gilmar</th>\n",
       "      <td>1.1</td>\n",
       "      <td>1.9</td>\n",
       "      <td>1.7</td>\n",
       "      <td>1.7</td>\n",
       "      <td>-2.336341</td>\n",
       "      <td>1.460375</td>\n",
       "      <td>-1.836033</td>\n",
       "    </tr>\n",
       "  </tbody>\n",
       "</table>\n",
       "<p>100 rows × 7 columns</p>\n",
       "</div>"
      ],
      "text/plain": [
       "           finanças  custos  marketing  atuária       PC1       PC2     score\n",
       "estudante                                                                    \n",
       "Adelino         9.9    10.0       10.0     10.0  3.053479 -1.632706  2.330593\n",
       "Renata          7.7    10.0       10.0     10.0  2.653953 -1.627690  2.077824\n",
       "Cecília         9.8    10.0        7.0     10.0  3.063847 -0.567786  2.070789\n",
       "Felipe          8.7    10.0        9.0      9.0  2.613786 -1.279124  1.965364\n",
       "Claudio         9.8     9.0        9.0      9.0  2.572682 -1.261756  1.935143\n",
       "...             ...     ...        ...      ...       ...       ...       ...\n",
       "Elaine          3.1     2.0        2.0      2.0 -1.882518  1.348574 -1.522376\n",
       "Carolina        3.1     2.0        2.0      2.0 -1.882518  1.348574 -1.522376\n",
       "Ester           0.6     1.9        3.0      3.2 -2.092586  1.006226 -1.569001\n",
       "Viviane         0.7     1.9        2.8      2.8 -2.165035  1.075357 -1.631900\n",
       "Gilmar          1.1     1.9        1.7      1.7 -2.336341  1.460375 -1.836033\n",
       "\n",
       "[100 rows x 7 columns]"
      ]
     },
     "execution_count": 41,
     "metadata": {},
     "output_type": "execute_result"
    }
   ],
   "source": [
    "nota_fatorial.sort_values(by='score', ascending=False)"
   ]
  }
 ],
 "metadata": {
  "kernelspec": {
   "display_name": "Python 3 (ipykernel)",
   "language": "python",
   "name": "python3"
  },
  "language_info": {
   "codemirror_mode": {
    "name": "ipython",
    "version": 3
   },
   "file_extension": ".py",
   "mimetype": "text/x-python",
   "name": "python",
   "nbconvert_exporter": "python",
   "pygments_lexer": "ipython3",
   "version": "3.9.7"
  }
 },
 "nbformat": 4,
 "nbformat_minor": 5
}
